{
 "cells": [
  {
   "cell_type": "code",
   "execution_count": 13,
   "metadata": {},
   "outputs": [],
   "source": [
    "import torch\n",
    "from torch import nn\n",
    "from torch.nn import functional as F\n",
    "from torch import optim\n",
    "from matplotlib import pyplot as plt\n",
    "\n",
    "import dlc_practical_prologue as prologue\n",
    "\n",
    "from helpers import *\n",
    "\n",
    "import importlib\n",
    "import models\n",
    "importlib.reload(models)\n",
    "from models import *"
   ]
  },
  {
   "cell_type": "code",
   "execution_count": 2,
   "metadata": {},
   "outputs": [],
   "source": [
    "def train(model, input_, target_, target_classes, epochs, mini_batch, lr, norm_weight, aux_weight):\n",
    "    criterion = nn.CrossEntropyLoss() \n",
    "    optimizer = optim.Adam(model.parameters(), lr = lr)\n",
    "    \n",
    "    losses = []\n",
    "    for epoch in range(epochs):\n",
    "        for batch in range(0, input_.size(0), mini_batch):\n",
    "            train_in = input_.narrow(0, batch, mini_batch)\n",
    "            target_in = target_.narrow(0, batch, mini_batch)\n",
    "            target_in_classes = target_classes.narrow(0, batch, mini_batch)\n",
    "            \n",
    "            out, out_aux = model(train_in)\n",
    "            \n",
    "            loss = criterion(out, target_in)\n",
    "            for parameter in model.parameters():\n",
    "                loss += norm_weight * parameter.pow(2).sum()\n",
    "                \n",
    "            if out_aux:\n",
    "                loss += aux_weight*criterion(out_aux[0], target_in_classes[:,0])\n",
    "                loss += aux_weight*criterion(out_aux[1], target_in_classes[:,1])\n",
    "                \n",
    "            optimizer.zero_grad()\n",
    "            loss.backward()\n",
    "            optimizer.step()\n",
    "            losses.append(loss.data.item())\n",
    "            \n",
    "    return losses"
   ]
  },
  {
   "cell_type": "code",
   "execution_count": 3,
   "metadata": {},
   "outputs": [],
   "source": [
    "def get_train_error_rate(model, train_input, train_target, mini_batch):\n",
    "    n_errs = 0\n",
    "    nb_samples = train_input.size(0)\n",
    "    for batch in range(0, nb_samples, mini_batch):\n",
    "        preds,_ = model(train_input.narrow(0, batch, mini_batch))\n",
    "        preds = functional.softmax(preds, dim = 0)\n",
    "        #print(type(preds))\n",
    "        #print(type(a2))\n",
    "        #break\n",
    "        for i in range(mini_batch):\n",
    "            if torch.max(preds[i], 0)[1] != train_target.data[batch+i]:\n",
    "                n_errs += 1\n",
    "    return n_errs/nb_samples\n",
    "\n",
    "def get_test_error_rate(model, test_input, test_target):\n",
    "    preds,_ = model(test_input)\n",
    "    preds = functional.softmax(preds, dim = 0)\n",
    "    #print(preds)\n",
    "    #print(a2)\n",
    "    #return 0\n",
    "\n",
    "    n_errs = 0\n",
    "    nb_samples = test_input.size(0)\n",
    "    for i in range(nb_samples):\n",
    "        if torch.max(preds[i], 0)[1] != test_target[i]:\n",
    "            n_errs += 1\n",
    "\n",
    "    return n_errs/nb_samples"
   ]
  },
  {
   "cell_type": "code",
   "execution_count": 20,
   "metadata": {},
   "outputs": [
    {
     "data": {
      "image/png": "[encoded data removed]",
      "text/plain": [
       "<Figure size 576x576 with 1 Axes>"
      ]
     },
     "metadata": {
      "needs_background": "light"
     },
     "output_type": "display_data"
    }
   ],
   "source": [
    "plt.figure(figsize=(8, 8))\n",
    "categories = ['CNN_base', 'CNN_AL', 'CNN_WS', 'CNN_WS_AL']\n",
    "plt.bar(categories, model_scores)\n",
    "plt.ylim([0.6, 1])\n",
    "plt.title('Comparison of 4 models')\n",
    "plt.xlabel('Model')\n",
    "plt.ylabel('Accuracy')\n",
    "plt.show()"
   ]
  },
  {
   "cell_type": "code",
   "execution_count": 38,
   "metadata": {},
   "outputs": [],
   "source": [
    "def create_folds(train_input, train_target, train_classes, n_folds):\n",
    "    full_train_size = train_input.size(0)\n",
    "    idx = torch.randperm(full_train_size)\n",
    "    fold_size = full_train_size//n_folds\n",
    "    folds = []\n",
    "    for i in range(n_folds):\n",
    "        start = i*fold_size\n",
    "        end = (i+1)*fold_size if i < n_folds-1 else full_train_size\n",
    "        valid_fold = {}\n",
    "        valid_fold[\"input\"] = train_input[idx[start:end]]\n",
    "        valid_fold[\"target\"] = train_target[idx[start:end]]\n",
    "        valid_fold[\"classes\"] = train_classes[idx[start:end]]\n",
    "        train_fold = {}\n",
    "        train_fold[\"input\"] = torch.cat((train_input[idx[:start]], train_input[idx[end:]]), 0)\n",
    "        train_fold[\"target\"] = torch.cat((train_target[idx[:start]], train_target[idx[end:]]), 0)\n",
    "        train_fold[\"classes\"] = torch.cat((train_classes[idx[:start]], train_classes[idx[end:]]), 0)\n",
    "        folds.append((train_fold, valid_fold))\n",
    "    \n",
    "    return folds"
   ]
  },
  {
   "cell_type": "code",
   "execution_count": null,
   "metadata": {},
   "outputs": [
    {
     "name": "stdout",
     "output_type": "stream",
     "text": [
      "lr: 1e-05, norm_weight: 0.01, aux_weight: 0\n",
      "tensor([0.2150, 0.1530, 0.1030, 0.0800, 0.0560])\n",
      "lr: 1e-05, norm_weight: 0.02, aux_weight: 0\n",
      "tensor([0.0510, 0.0370, 0.0290, 0.0200, 0.0130])\n",
      "lr: 1e-05, norm_weight: 0.05, aux_weight: 0\n",
      "tensor([0.0140, 0.0050, 0.0080, 0.0040, 0.0080])\n",
      "lr: 1e-05, norm_weight: 0.1, aux_weight: 0\n",
      "tensor([0.0110, 0.0050, 0.0070, 0.0060, 0.0060])\n",
      "lr: 0.0001, norm_weight: 0.01, aux_weight: 0\n",
      "tensor([0.0830, 0.0280, 0.0430, 0.0410, 0.0220])\n",
      "lr: 0.0001, norm_weight: 0.02, aux_weight: 0\n"
     ]
    }
   ],
   "source": [
    "#cross-validation\n",
    "n_samples = 5000\n",
    "mini_batch = 100\n",
    "n_folds = 5\n",
    "\n",
    "train_input, train_target, train_classes, test_input, test_target, test_classes = prologue.generate_pair_sets(n_samples)\n",
    "train_input = normalize(train_input)\n",
    "test_input = normalize(test_input)\n",
    "\n",
    "folds = create_folds(train_input, train_target, train_classes, n_folds=n_folds)\n",
    "#print(folds[1][0][\"input\"].size())\n",
    "model = CNN_WS()\n",
    "\n",
    "lrs = [0.00001, 0.0001, 0.001]\n",
    "norm_weights = [0.01, 0.02, 0.05, 0.1]\n",
    "#aux_weights = [0.5, 0.75, 1, 1.25, 1.5]\n",
    "aux_weights = [0]\n",
    "\n",
    "score_per_model = []\n",
    "for lr in lrs:\n",
    "    for norm_weight in norm_weights:\n",
    "        for aux_weight in aux_weights:\n",
    "            print(\"lr: {0}, norm_weight: {1}, aux_weight: {2}\".format(lr, norm_weight, aux_weight))\n",
    "            score_per_fold = []\n",
    "            for i in range(n_folds):\n",
    "                #print(\"fold: {}\".format(i))\n",
    "                train_fold = folds[i][0]\n",
    "                valid_fold = folds[i][1]\n",
    "                train(model, train_fold[\"input\"], train_fold[\"target\"], train_fold[\"classes\"], epochs = 25, mini_batch = mini_batch, lr = lr, norm_weight=norm_weight, aux_weight=aux_weight)\n",
    "                score_per_fold.append(get_test_error_rate(model, valid_fold[\"input\"], valid_fold[\"target\"]))\n",
    "        \n",
    "            score_tens = torch.Tensor(score_per_fold)\n",
    "            mean = torch.mean(score_tens).item()\n",
    "            std = torch.std(score_tens).item()\n",
    "            print(score_tens)\n",
    "            score_per_model.append({\"lr\": lr, \"norm_weight\": norm_weight, \"aux_weight\": aux_weight, \"mean\": mean, \"std\": std})\n",
    "            "
   ]
  },
  {
   "cell_type": "code",
   "execution_count": 179,
   "metadata": {},
   "outputs": [
    {
     "data": {
      "text/plain": [
       "[{'lr': 0.0001,\n",
       "  'norm_weight': 0.01,\n",
       "  'aux_weight': 0,\n",
       "  'mean': 0.12539999186992645,\n",
       "  'std': 0.05590885505080223},\n",
       " {'lr': 0.0001,\n",
       "  'norm_weight': 0.02,\n",
       "  'aux_weight': 0,\n",
       "  'mean': 0.06360000371932983,\n",
       "  'std': 0.0077653066255152225},\n",
       " {'lr': 0.0001,\n",
       "  'norm_weight': 0.05,\n",
       "  'aux_weight': 0,\n",
       "  'mean': 0.05780000239610672,\n",
       "  'std': 0.008899438194930553},\n",
       " {'lr': 0.0001,\n",
       "  'norm_weight': 0.1,\n",
       "  'aux_weight': 0,\n",
       "  'mean': 0.06340000033378601,\n",
       "  'std': 0.006426508072763681},\n",
       " {'lr': 0.001,\n",
       "  'norm_weight': 0.01,\n",
       "  'aux_weight': 0,\n",
       "  'mean': 0.1297999918460846,\n",
       "  'std': 0.030752232298254967},\n",
       " {'lr': 0.001,\n",
       "  'norm_weight': 0.02,\n",
       "  'aux_weight': 0,\n",
       "  'mean': 0.11440000683069229,\n",
       "  'std': 0.012817957438528538},\n",
       " {'lr': 0.001,\n",
       "  'norm_weight': 0.05,\n",
       "  'aux_weight': 0,\n",
       "  'mean': 0.1404000073671341,\n",
       "  'std': 0.01205404382199049},\n",
       " {'lr': 0.001,\n",
       "  'norm_weight': 0.1,\n",
       "  'aux_weight': 0,\n",
       "  'mean': 0.14839999377727509,\n",
       "  'std': 0.007021394558250904},\n",
       " {'lr': 0.01,\n",
       "  'norm_weight': 0.01,\n",
       "  'aux_weight': 0,\n",
       "  'mean': 0.17000000178813934,\n",
       "  'std': 0.01488287653774023},\n",
       " {'lr': 0.01,\n",
       "  'norm_weight': 0.02,\n",
       "  'aux_weight': 0,\n",
       "  'mean': 0.16380000114440918,\n",
       "  'std': 0.012969193048775196},\n",
       " {'lr': 0.01,\n",
       "  'norm_weight': 0.05,\n",
       "  'aux_weight': 0,\n",
       "  'mean': 0.20480000972747803,\n",
       "  'std': 0.012517987750470638},\n",
       " {'lr': 0.01,\n",
       "  'norm_weight': 0.1,\n",
       "  'aux_weight': 0,\n",
       "  'mean': 0.23680000007152557,\n",
       "  'std': 0.0301197599619627}]"
      ]
     },
     "execution_count": 179,
     "metadata": {},
     "output_type": "execute_result"
    }
   ],
   "source": [
    "score_per_model"
   ]
  },
  {
   "cell_type": "code",
   "execution_count": 189,
   "metadata": {},
   "outputs": [
    {
     "ename": "RuntimeError",
     "evalue": "size mismatch, m1: [100 x 1152], m2: [2304 x 200] at ../aten/src/TH/generic/THTensorMath.cpp:41",
     "output_type": "error",
     "traceback": [
      "\u001b[0;31m---------------------------------------------------------------------------\u001b[0m",
      "\u001b[0;31mRuntimeError\u001b[0m                              Traceback (most recent call last)",
      "\u001b[0;32m<ipython-input-189-174498b240a3>\u001b[0m in \u001b[0;36m<module>\u001b[0;34m\u001b[0m\n\u001b[1;32m      1\u001b[0m \u001b[0mmodel\u001b[0m \u001b[0;34m=\u001b[0m \u001b[0mCNN_base\u001b[0m\u001b[0;34m(\u001b[0m\u001b[0;34m)\u001b[0m\u001b[0;34m\u001b[0m\u001b[0;34m\u001b[0m\u001b[0m\n\u001b[0;32m----> 2\u001b[0;31m \u001b[0mtrain\u001b[0m\u001b[0;34m(\u001b[0m\u001b[0mmodel\u001b[0m\u001b[0;34m,\u001b[0m \u001b[0mtrain_input\u001b[0m\u001b[0;34m,\u001b[0m \u001b[0mtrain_target\u001b[0m\u001b[0;34m,\u001b[0m \u001b[0mtrain_classes\u001b[0m\u001b[0;34m,\u001b[0m \u001b[0mepochs\u001b[0m \u001b[0;34m=\u001b[0m \u001b[0;36m25\u001b[0m\u001b[0;34m,\u001b[0m \u001b[0mmini_batch\u001b[0m \u001b[0;34m=\u001b[0m \u001b[0mmini_batch\u001b[0m\u001b[0;34m,\u001b[0m \u001b[0mlr\u001b[0m \u001b[0;34m=\u001b[0m \u001b[0;36m0.0001\u001b[0m\u001b[0;34m,\u001b[0m \u001b[0mnorm_weight\u001b[0m\u001b[0;34m=\u001b[0m\u001b[0;36m0.01\u001b[0m\u001b[0;34m,\u001b[0m \u001b[0maux_weight\u001b[0m\u001b[0;34m=\u001b[0m\u001b[0;36m0.75\u001b[0m\u001b[0;34m)\u001b[0m\u001b[0;34m\u001b[0m\u001b[0;34m\u001b[0m\u001b[0m\n\u001b[0m",
      "\u001b[0;32m<ipython-input-141-ce29bebb0ca2>\u001b[0m in \u001b[0;36mtrain\u001b[0;34m(model, input_, target_, target_classes, epochs, mini_batch, lr, norm_weight, aux_weight)\u001b[0m\n\u001b[1;32m     10\u001b[0m             \u001b[0mtarget_in_classes\u001b[0m \u001b[0;34m=\u001b[0m \u001b[0mtarget_classes\u001b[0m\u001b[0;34m.\u001b[0m\u001b[0mnarrow\u001b[0m\u001b[0;34m(\u001b[0m\u001b[0;36m0\u001b[0m\u001b[0;34m,\u001b[0m \u001b[0mbatch\u001b[0m\u001b[0;34m,\u001b[0m \u001b[0mmini_batch\u001b[0m\u001b[0;34m)\u001b[0m\u001b[0;34m\u001b[0m\u001b[0;34m\u001b[0m\u001b[0m\n\u001b[1;32m     11\u001b[0m \u001b[0;34m\u001b[0m\u001b[0m\n\u001b[0;32m---> 12\u001b[0;31m             \u001b[0mout\u001b[0m\u001b[0;34m,\u001b[0m \u001b[0mout_aux\u001b[0m \u001b[0;34m=\u001b[0m \u001b[0mmodel\u001b[0m\u001b[0;34m(\u001b[0m\u001b[0mtrain_in\u001b[0m\u001b[0;34m)\u001b[0m\u001b[0;34m\u001b[0m\u001b[0;34m\u001b[0m\u001b[0m\n\u001b[0m\u001b[1;32m     13\u001b[0m \u001b[0;34m\u001b[0m\u001b[0m\n\u001b[1;32m     14\u001b[0m             \u001b[0mloss\u001b[0m \u001b[0;34m=\u001b[0m \u001b[0mcriterion\u001b[0m\u001b[0;34m(\u001b[0m\u001b[0mout\u001b[0m\u001b[0;34m,\u001b[0m \u001b[0mtarget_in\u001b[0m\u001b[0;34m)\u001b[0m\u001b[0;34m\u001b[0m\u001b[0;34m\u001b[0m\u001b[0m\n",
      "\u001b[0;32m/Library/Frameworks/Python.framework/Versions/3.6/lib/python3.6/site-packages/torch/nn/modules/module.py\u001b[0m in \u001b[0;36m__call__\u001b[0;34m(self, *input, **kwargs)\u001b[0m\n\u001b[1;32m    548\u001b[0m             \u001b[0mresult\u001b[0m \u001b[0;34m=\u001b[0m \u001b[0mself\u001b[0m\u001b[0;34m.\u001b[0m\u001b[0m_slow_forward\u001b[0m\u001b[0;34m(\u001b[0m\u001b[0;34m*\u001b[0m\u001b[0minput\u001b[0m\u001b[0;34m,\u001b[0m \u001b[0;34m**\u001b[0m\u001b[0mkwargs\u001b[0m\u001b[0;34m)\u001b[0m\u001b[0;34m\u001b[0m\u001b[0;34m\u001b[0m\u001b[0m\n\u001b[1;32m    549\u001b[0m         \u001b[0;32melse\u001b[0m\u001b[0;34m:\u001b[0m\u001b[0;34m\u001b[0m\u001b[0;34m\u001b[0m\u001b[0m\n\u001b[0;32m--> 550\u001b[0;31m             \u001b[0mresult\u001b[0m \u001b[0;34m=\u001b[0m \u001b[0mself\u001b[0m\u001b[0;34m.\u001b[0m\u001b[0mforward\u001b[0m\u001b[0;34m(\u001b[0m\u001b[0;34m*\u001b[0m\u001b[0minput\u001b[0m\u001b[0;34m,\u001b[0m \u001b[0;34m**\u001b[0m\u001b[0mkwargs\u001b[0m\u001b[0;34m)\u001b[0m\u001b[0;34m\u001b[0m\u001b[0;34m\u001b[0m\u001b[0m\n\u001b[0m\u001b[1;32m    551\u001b[0m         \u001b[0;32mfor\u001b[0m \u001b[0mhook\u001b[0m \u001b[0;32min\u001b[0m \u001b[0mself\u001b[0m\u001b[0;34m.\u001b[0m\u001b[0m_forward_hooks\u001b[0m\u001b[0;34m.\u001b[0m\u001b[0mvalues\u001b[0m\u001b[0;34m(\u001b[0m\u001b[0;34m)\u001b[0m\u001b[0;34m:\u001b[0m\u001b[0;34m\u001b[0m\u001b[0;34m\u001b[0m\u001b[0m\n\u001b[1;32m    552\u001b[0m             \u001b[0mhook_result\u001b[0m \u001b[0;34m=\u001b[0m \u001b[0mhook\u001b[0m\u001b[0;34m(\u001b[0m\u001b[0mself\u001b[0m\u001b[0;34m,\u001b[0m \u001b[0minput\u001b[0m\u001b[0;34m,\u001b[0m \u001b[0mresult\u001b[0m\u001b[0;34m)\u001b[0m\u001b[0;34m\u001b[0m\u001b[0;34m\u001b[0m\u001b[0m\n",
      "\u001b[0;32m~/Documents/deep_learning/mini_projects/project1/models.py\u001b[0m in \u001b[0;36mforward\u001b[0;34m(self, x)\u001b[0m\n\u001b[1;32m     24\u001b[0m         \u001b[0mx\u001b[0m \u001b[0;34m=\u001b[0m \u001b[0mself\u001b[0m\u001b[0;34m.\u001b[0m\u001b[0mbatchnorm1\u001b[0m\u001b[0;34m(\u001b[0m\u001b[0mfunctional\u001b[0m\u001b[0;34m.\u001b[0m\u001b[0mrelu\u001b[0m\u001b[0;34m(\u001b[0m\u001b[0mfunctional\u001b[0m\u001b[0;34m.\u001b[0m\u001b[0mmax_pool2d\u001b[0m\u001b[0;34m(\u001b[0m\u001b[0mself\u001b[0m\u001b[0;34m.\u001b[0m\u001b[0mconvolution1\u001b[0m\u001b[0;34m(\u001b[0m\u001b[0mx\u001b[0m\u001b[0;34m)\u001b[0m\u001b[0;34m,\u001b[0m \u001b[0mkernel_size\u001b[0m\u001b[0;34m=\u001b[0m\u001b[0;36m2\u001b[0m\u001b[0;34m)\u001b[0m\u001b[0;34m)\u001b[0m\u001b[0;34m)\u001b[0m\u001b[0;34m\u001b[0m\u001b[0;34m\u001b[0m\u001b[0m\n\u001b[1;32m     25\u001b[0m         \u001b[0mx\u001b[0m \u001b[0;34m=\u001b[0m \u001b[0mself\u001b[0m\u001b[0;34m.\u001b[0m\u001b[0mbatchnorm2\u001b[0m\u001b[0;34m(\u001b[0m\u001b[0mfunctional\u001b[0m\u001b[0;34m.\u001b[0m\u001b[0mrelu\u001b[0m\u001b[0;34m(\u001b[0m\u001b[0mfunctional\u001b[0m\u001b[0;34m.\u001b[0m\u001b[0mmax_pool2d\u001b[0m\u001b[0;34m(\u001b[0m\u001b[0mself\u001b[0m\u001b[0;34m.\u001b[0m\u001b[0mconvolution2\u001b[0m\u001b[0;34m(\u001b[0m\u001b[0mx\u001b[0m\u001b[0;34m)\u001b[0m\u001b[0;34m,\u001b[0m \u001b[0mkernel_size\u001b[0m\u001b[0;34m=\u001b[0m\u001b[0;36m2\u001b[0m\u001b[0;34m)\u001b[0m\u001b[0;34m)\u001b[0m\u001b[0;34m)\u001b[0m\u001b[0;34m\u001b[0m\u001b[0;34m\u001b[0m\u001b[0m\n\u001b[0;32m---> 26\u001b[0;31m         \u001b[0mx\u001b[0m \u001b[0;34m=\u001b[0m \u001b[0mself\u001b[0m\u001b[0;34m.\u001b[0m\u001b[0mbatchnorm3\u001b[0m\u001b[0;34m(\u001b[0m\u001b[0mfunctional\u001b[0m\u001b[0;34m.\u001b[0m\u001b[0mrelu\u001b[0m\u001b[0;34m(\u001b[0m\u001b[0mself\u001b[0m\u001b[0;34m.\u001b[0m\u001b[0mfullyconnected1\u001b[0m\u001b[0;34m(\u001b[0m\u001b[0mx\u001b[0m\u001b[0;34m.\u001b[0m\u001b[0mview\u001b[0m\u001b[0;34m(\u001b[0m\u001b[0mx\u001b[0m\u001b[0;34m.\u001b[0m\u001b[0msize\u001b[0m\u001b[0;34m(\u001b[0m\u001b[0;34m)\u001b[0m\u001b[0;34m[\u001b[0m\u001b[0;36m0\u001b[0m\u001b[0;34m]\u001b[0m\u001b[0;34m,\u001b[0m \u001b[0;34m-\u001b[0m\u001b[0;36m1\u001b[0m\u001b[0;34m)\u001b[0m\u001b[0;34m)\u001b[0m\u001b[0;34m)\u001b[0m\u001b[0;34m)\u001b[0m\u001b[0;34m\u001b[0m\u001b[0;34m\u001b[0m\u001b[0m\n\u001b[0m\u001b[1;32m     27\u001b[0m         \u001b[0mx\u001b[0m \u001b[0;34m=\u001b[0m \u001b[0mself\u001b[0m\u001b[0;34m.\u001b[0m\u001b[0mfullyconnected2\u001b[0m\u001b[0;34m(\u001b[0m\u001b[0mx\u001b[0m\u001b[0;34m)\u001b[0m\u001b[0;34m\u001b[0m\u001b[0;34m\u001b[0m\u001b[0m\n\u001b[1;32m     28\u001b[0m \u001b[0;34m\u001b[0m\u001b[0m\n",
      "\u001b[0;32m/Library/Frameworks/Python.framework/Versions/3.6/lib/python3.6/site-packages/torch/nn/modules/module.py\u001b[0m in \u001b[0;36m__call__\u001b[0;34m(self, *input, **kwargs)\u001b[0m\n\u001b[1;32m    548\u001b[0m             \u001b[0mresult\u001b[0m \u001b[0;34m=\u001b[0m \u001b[0mself\u001b[0m\u001b[0;34m.\u001b[0m\u001b[0m_slow_forward\u001b[0m\u001b[0;34m(\u001b[0m\u001b[0;34m*\u001b[0m\u001b[0minput\u001b[0m\u001b[0;34m,\u001b[0m \u001b[0;34m**\u001b[0m\u001b[0mkwargs\u001b[0m\u001b[0;34m)\u001b[0m\u001b[0;34m\u001b[0m\u001b[0;34m\u001b[0m\u001b[0m\n\u001b[1;32m    549\u001b[0m         \u001b[0;32melse\u001b[0m\u001b[0;34m:\u001b[0m\u001b[0;34m\u001b[0m\u001b[0;34m\u001b[0m\u001b[0m\n\u001b[0;32m--> 550\u001b[0;31m             \u001b[0mresult\u001b[0m \u001b[0;34m=\u001b[0m \u001b[0mself\u001b[0m\u001b[0;34m.\u001b[0m\u001b[0mforward\u001b[0m\u001b[0;34m(\u001b[0m\u001b[0;34m*\u001b[0m\u001b[0minput\u001b[0m\u001b[0;34m,\u001b[0m \u001b[0;34m**\u001b[0m\u001b[0mkwargs\u001b[0m\u001b[0;34m)\u001b[0m\u001b[0;34m\u001b[0m\u001b[0;34m\u001b[0m\u001b[0m\n\u001b[0m\u001b[1;32m    551\u001b[0m         \u001b[0;32mfor\u001b[0m \u001b[0mhook\u001b[0m \u001b[0;32min\u001b[0m \u001b[0mself\u001b[0m\u001b[0;34m.\u001b[0m\u001b[0m_forward_hooks\u001b[0m\u001b[0;34m.\u001b[0m\u001b[0mvalues\u001b[0m\u001b[0;34m(\u001b[0m\u001b[0;34m)\u001b[0m\u001b[0;34m:\u001b[0m\u001b[0;34m\u001b[0m\u001b[0;34m\u001b[0m\u001b[0m\n\u001b[1;32m    552\u001b[0m             \u001b[0mhook_result\u001b[0m \u001b[0;34m=\u001b[0m \u001b[0mhook\u001b[0m\u001b[0;34m(\u001b[0m\u001b[0mself\u001b[0m\u001b[0;34m,\u001b[0m \u001b[0minput\u001b[0m\u001b[0;34m,\u001b[0m \u001b[0mresult\u001b[0m\u001b[0;34m)\u001b[0m\u001b[0;34m\u001b[0m\u001b[0;34m\u001b[0m\u001b[0m\n",
      "\u001b[0;32m/Library/Frameworks/Python.framework/Versions/3.6/lib/python3.6/site-packages/torch/nn/modules/linear.py\u001b[0m in \u001b[0;36mforward\u001b[0;34m(self, input)\u001b[0m\n\u001b[1;32m     85\u001b[0m \u001b[0;34m\u001b[0m\u001b[0m\n\u001b[1;32m     86\u001b[0m     \u001b[0;32mdef\u001b[0m \u001b[0mforward\u001b[0m\u001b[0;34m(\u001b[0m\u001b[0mself\u001b[0m\u001b[0;34m,\u001b[0m \u001b[0minput\u001b[0m\u001b[0;34m)\u001b[0m\u001b[0;34m:\u001b[0m\u001b[0;34m\u001b[0m\u001b[0;34m\u001b[0m\u001b[0m\n\u001b[0;32m---> 87\u001b[0;31m         \u001b[0;32mreturn\u001b[0m \u001b[0mF\u001b[0m\u001b[0;34m.\u001b[0m\u001b[0mlinear\u001b[0m\u001b[0;34m(\u001b[0m\u001b[0minput\u001b[0m\u001b[0;34m,\u001b[0m \u001b[0mself\u001b[0m\u001b[0;34m.\u001b[0m\u001b[0mweight\u001b[0m\u001b[0;34m,\u001b[0m \u001b[0mself\u001b[0m\u001b[0;34m.\u001b[0m\u001b[0mbias\u001b[0m\u001b[0;34m)\u001b[0m\u001b[0;34m\u001b[0m\u001b[0;34m\u001b[0m\u001b[0m\n\u001b[0m\u001b[1;32m     88\u001b[0m \u001b[0;34m\u001b[0m\u001b[0m\n\u001b[1;32m     89\u001b[0m     \u001b[0;32mdef\u001b[0m \u001b[0mextra_repr\u001b[0m\u001b[0;34m(\u001b[0m\u001b[0mself\u001b[0m\u001b[0;34m)\u001b[0m\u001b[0;34m:\u001b[0m\u001b[0;34m\u001b[0m\u001b[0;34m\u001b[0m\u001b[0m\n",
      "\u001b[0;32m/Library/Frameworks/Python.framework/Versions/3.6/lib/python3.6/site-packages/torch/nn/functional.py\u001b[0m in \u001b[0;36mlinear\u001b[0;34m(input, weight, bias)\u001b[0m\n\u001b[1;32m   1608\u001b[0m     \u001b[0;32mif\u001b[0m \u001b[0minput\u001b[0m\u001b[0;34m.\u001b[0m\u001b[0mdim\u001b[0m\u001b[0;34m(\u001b[0m\u001b[0;34m)\u001b[0m \u001b[0;34m==\u001b[0m \u001b[0;36m2\u001b[0m \u001b[0;32mand\u001b[0m \u001b[0mbias\u001b[0m \u001b[0;32mis\u001b[0m \u001b[0;32mnot\u001b[0m \u001b[0;32mNone\u001b[0m\u001b[0;34m:\u001b[0m\u001b[0;34m\u001b[0m\u001b[0;34m\u001b[0m\u001b[0m\n\u001b[1;32m   1609\u001b[0m         \u001b[0;31m# fused op is marginally faster\u001b[0m\u001b[0;34m\u001b[0m\u001b[0;34m\u001b[0m\u001b[0;34m\u001b[0m\u001b[0m\n\u001b[0;32m-> 1610\u001b[0;31m         \u001b[0mret\u001b[0m \u001b[0;34m=\u001b[0m \u001b[0mtorch\u001b[0m\u001b[0;34m.\u001b[0m\u001b[0maddmm\u001b[0m\u001b[0;34m(\u001b[0m\u001b[0mbias\u001b[0m\u001b[0;34m,\u001b[0m \u001b[0minput\u001b[0m\u001b[0;34m,\u001b[0m \u001b[0mweight\u001b[0m\u001b[0;34m.\u001b[0m\u001b[0mt\u001b[0m\u001b[0;34m(\u001b[0m\u001b[0;34m)\u001b[0m\u001b[0;34m)\u001b[0m\u001b[0;34m\u001b[0m\u001b[0;34m\u001b[0m\u001b[0m\n\u001b[0m\u001b[1;32m   1611\u001b[0m     \u001b[0;32melse\u001b[0m\u001b[0;34m:\u001b[0m\u001b[0;34m\u001b[0m\u001b[0;34m\u001b[0m\u001b[0m\n\u001b[1;32m   1612\u001b[0m         \u001b[0moutput\u001b[0m \u001b[0;34m=\u001b[0m \u001b[0minput\u001b[0m\u001b[0;34m.\u001b[0m\u001b[0mmatmul\u001b[0m\u001b[0;34m(\u001b[0m\u001b[0mweight\u001b[0m\u001b[0;34m.\u001b[0m\u001b[0mt\u001b[0m\u001b[0;34m(\u001b[0m\u001b[0;34m)\u001b[0m\u001b[0;34m)\u001b[0m\u001b[0;34m\u001b[0m\u001b[0;34m\u001b[0m\u001b[0m\n",
      "\u001b[0;31mRuntimeError\u001b[0m: size mismatch, m1: [100 x 1152], m2: [2304 x 200] at ../aten/src/TH/generic/THTensorMath.cpp:41"
     ]
    }
   ],
   "source": [
    "model = CNN_base()\n",
    "train(model, train_input, train_target, train_classes, epochs = 25, mini_batch = mini_batch, lr = 0.0001, norm_weight=0.01, aux_weight=0.75)"
   ]
  },
  {
   "cell_type": "code",
   "execution_count": 139,
   "metadata": {},
   "outputs": [
    {
     "name": "stdout",
     "output_type": "stream",
     "text": [
      "187\n",
      "1000\n"
     ]
    }
   ],
   "source": [
    "test_score = get_test_errors(model, test_input, test_target)"
   ]
  },
  {
   "cell_type": "code",
   "execution_count": 83,
   "metadata": {},
   "outputs": [
    {
     "data": {
      "text/plain": [
       "0.212"
      ]
     },
     "execution_count": 83,
     "metadata": {},
     "output_type": "execute_result"
    }
   ],
   "source": [
    "test_score"
   ]
  },
  {
   "cell_type": "code",
   "execution_count": 41,
   "metadata": {},
   "outputs": [],
   "source": [
    "f = open(\"grid_search_CNN_base.csv\", \"w\")\n",
    "f.write(\"lr,norm_weight,mean,std\\n\")\n",
    "for row in score_per_model:\n",
    "    f.write(\"{},{},{},{}\\n\".format(row[\"lr\"], row[\"norm_weight\"], row[\"mean\"], row[\"std\"]))\n",
    "f.close()"
   ]
  },
  {
   "cell_type": "code",
   "execution_count": 180,
   "metadata": {},
   "outputs": [],
   "source": [
    "f = open(\"grid_search_CNN_WS.csv\", \"w\")\n",
    "f.write(\"lr,norm_weight,mean,std\\n\")\n",
    "for row in score_per_model:\n",
    "    f.write(\"{},{},{},{}\\n\".format(row[\"lr\"], row[\"norm_weight\"], row[\"mean\"], row[\"std\"]))\n",
    "f.close()"
   ]
  },
  {
   "cell_type": "code",
   "execution_count": 200,
   "metadata": {},
   "outputs": [],
   "source": [
    "f = open(\"grid_search_CNN_AL.csv\", \"w\")\n",
    "f.write(\"lr,norm_weight,aux_weight,mean,std\\n\")\n",
    "for row in score_per_model:\n",
    "    f.write(\"{},{},{},{},{}\\n\".format(row[\"lr\"], row[\"norm_weight\"], row[\"aux_weight\"], row[\"mean\"], row[\"std\"]))\n",
    "f.close()"
   ]
  },
  {
   "cell_type": "code",
   "execution_count": null,
   "metadata": {},
   "outputs": [],
   "source": [
    "f = open(\"grid_search_CNN_WS_AL.csv\", \"w\")\n",
    "f.write(\"lr,norm_weight,aux_weight,mean,std\\n\")\n",
    "for row in score_per_model:\n",
    "    f.write(\"{},{},{},{},{}\\n\".format(row[\"lr\"], row[\"norm_weight\"], row[\"aux_weight\"], row[\"mean\"], row[\"std\"]))\n",
    "f.close()"
   ]
  },
  {
   "cell_type": "code",
   "execution_count": null,
   "metadata": {},
   "outputs": [],
   "source": [
    "#good values: 0.0001, 0.01, 0.75"
   ]
  },
  {
   "cell_type": "code",
   "execution_count": 6,
   "metadata": {},
   "outputs": [],
   "source": [
    "n_samples = 1000\n",
    "train_input, train_target, train_classes, test_input, test_target, test_classes = prologue.generate_pair_sets(n_samples)\n",
    "train_input = normalize(train_input)\n",
    "test_input = normalize(test_input)\n",
    "\n",
    "full_train_size = train_input.size(0)\n",
    "idx = torch.randperm(full_train_size)\n",
    "k_folds = 5\n",
    "fold_size = full_train_size//k_folds\n",
    "for i in range(k_folds):\n",
    "    valid_set = train_input[idx[i*fold_size:(i+1)*fold_size]] if i < k_folds-1 else train_input[idx[i*fold_size:]]"
   ]
  },
  {
   "cell_type": "code",
   "execution_count": 183,
   "metadata": {},
   "outputs": [],
   "source": [
    "#rounds\n",
    "def model_run(Model_class, lr, norm_weight, aux_weight=0, n_samples=1000, n_rounds=10, mini_batch=100):\n",
    "    test_accuracy = []\n",
    "\n",
    "    for i in range(n_rounds):\n",
    "        train_input, train_target, train_classes, test_input, test_target, test_classes = prologue.generate_pair_sets(n_samples)\n",
    "        train_input = normalize(train_input)\n",
    "        test_input = normalize(test_input)\n",
    "\n",
    "        model = Model_class()\n",
    "        train(model, train_input, train_target, train_classes, epochs = 25, mini_batch = mini_batch, lr=lr, norm_weight=norm_weight, aux_weight=aux_weight)\n",
    "\n",
    "        acc_round = 1-get_test_error_rate(model, test_input, test_target)\n",
    "        test_accuracy.append(acc_round)\n",
    "\n",
    "        print('Round ' + str(i+1))\n",
    "        print('Test error rate: {}'.format(acc_round))\n",
    "\n",
    "        print('***************************************************************')\n",
    "\n",
    "    return test_accuracy"
   ]
  },
  {
   "cell_type": "code",
   "execution_count": 15,
   "metadata": {},
   "outputs": [
    {
     "name": "stdout",
     "output_type": "stream",
     "text": [
      "Round 1\n",
      "Test accuracy:\n",
      "\n",
      "CNN_base: 0.7770000100135803\n",
      "CNN_AL: 0.8199999928474426\n",
      "CNN_WS: 0.8019999861717224\n",
      "CNN_WS_AL: 0.7429999709129333\n",
      "***************************************************************\n"
     ]
    }
   ],
   "source": [
    "n_samples=1000\n",
    "n_rounds=1\n",
    "mini_batch=100\n",
    "\n",
    "model_classes = [CNN_base, CNN_AL, CNN_WS, netwsal]\n",
    "\n",
    "#hyperparameters\n",
    "lrs = [0.0001, 0.0001, 0.0001, 0.0001]\n",
    "norm_weights = [0.02, 0.01, 0.05, 0.01]\n",
    "aux_weights = [0, 1, 0, 0.5]\n",
    "\n",
    "test_accuracy = torch.empty((4, n_rounds))\n",
    "\n",
    "for i in range(n_rounds):\n",
    "    train_input, train_target, train_classes, test_input, test_target, test_classes = prologue.generate_pair_sets(n_samples)\n",
    "    train_input = normalize(train_input)\n",
    "    test_input = normalize(test_input)\n",
    "\n",
    "    for j, model_class in enumerate(model_classes):\n",
    "        model = model_class()\n",
    "        train(model, train_input, train_target, train_classes, epochs = 25, mini_batch = mini_batch, lr=lrs[j], norm_weight=norm_weights[j], aux_weight=aux_weights[j])\n",
    "\n",
    "        acc_round = 1-get_test_error_rate(model, test_input, test_target)\n",
    "        #test_accuracy.append(acc_round)\n",
    "        test_accuracy[j][i] = acc_round\n",
    "\n",
    "    print('Round ' + str(i+1))\n",
    "    print('Test accuracy:\\n')\n",
    "    print('CNN_base: {}'.format(test_accuracy[0][i]))\n",
    "    print('CNN_AL: {}'.format(test_accuracy[1][i]))\n",
    "    print('CNN_WS: {}'.format(test_accuracy[2][i]))\n",
    "    print('CNN_WS_AL: {}'.format(test_accuracy[3][i]))\n",
    "\n",
    "    print('***************************************************************')"
   ]
  },
  {
   "cell_type": "code",
   "execution_count": null,
   "metadata": {},
   "outputs": [],
   "source": []
  },
  {
   "cell_type": "code",
   "execution_count": 30,
   "metadata": {},
   "outputs": [
    {
     "name": "stdout",
     "output_type": "stream",
     "text": [
      "CNN without weight sharing and without auxiliary loss\n"
     ]
    },
    {
     "data": {
      "text/plain": [
       "'mean of test scores: 0.7812000513076782, std of test scores: 0.01382268127053976'"
      ]
     },
     "execution_count": 30,
     "metadata": {},
     "output_type": "execute_result"
    }
   ],
   "source": [
    "#CNN_base\n",
    "print('CNN without weight sharing and without auxiliary loss')\n",
    "\"mean of test scores: {}, std of test scores: {}\".format(test_accuracy[0].mean().item(), test_accuracy[0].std().item())"
   ]
  },
  {
   "cell_type": "code",
   "execution_count": 31,
   "metadata": {},
   "outputs": [
    {
     "name": "stdout",
     "output_type": "stream",
     "text": [
      "CNN without weight sharing and with auxiliary loss\n"
     ]
    },
    {
     "data": {
      "text/plain": [
       "'mean of test scores: 0.8138999938964844, std of test scores: 0.014090584591031075'"
      ]
     },
     "execution_count": 31,
     "metadata": {},
     "output_type": "execute_result"
    }
   ],
   "source": [
    "#CNN_AL\n",
    "print('CNN without weight sharing and with auxiliary loss')\n",
    "\"mean of test scores: {}, std of test scores: {}\".format(test_accuracy[1].mean().item(), test_accuracy[1].std().item())"
   ]
  },
  {
   "cell_type": "code",
   "execution_count": 32,
   "metadata": {},
   "outputs": [
    {
     "name": "stdout",
     "output_type": "stream",
     "text": [
      "CNN with weight sharing and without auxiliary loss\n"
     ]
    },
    {
     "data": {
      "text/plain": [
       "'mean of test scores: 0.811500072479248, std of test scores: 0.005661762785166502'"
      ]
     },
     "execution_count": 32,
     "metadata": {},
     "output_type": "execute_result"
    }
   ],
   "source": [
    "#CNN_WS\n",
    "print('CNN with weight sharing and without auxiliary loss')\n",
    "\"mean of test scores: {}, std of test scores: {}\".format(test_accuracy[2].mean().item(), test_accuracy[2].std().item())"
   ]
  },
  {
   "cell_type": "code",
   "execution_count": 33,
   "metadata": {},
   "outputs": [
    {
     "name": "stdout",
     "output_type": "stream",
     "text": [
      "CNN with weight sharing and with auxiliary loss\n"
     ]
    },
    {
     "data": {
      "text/plain": [
       "'mean of test scores: 0.8159999847412109, std of test scores: 0.012745381332933903'"
      ]
     },
     "execution_count": 33,
     "metadata": {},
     "output_type": "execute_result"
    }
   ],
   "source": [
    "#CNN_WS_AL\n",
    "print('CNN with weight sharing and with auxiliary loss')\n",
    "\"mean of test scores: {}, std of test scores: {}\".format(test_accuracy[3].mean().item(), test_accuracy[3].std().item())"
   ]
  },
  {
   "cell_type": "code",
   "execution_count": 34,
   "metadata": {},
   "outputs": [
    {
     "data": {
      "image/png": "[encoded data removed]",
      "text/plain": [
       "<Figure size 576x576 with 1 Axes>"
      ]
     },
     "metadata": {
      "needs_background": "light"
     },
     "output_type": "display_data"
    }
   ],
   "source": [
    "test_err_rates = [0.2, 0.1, 0.15, 0.19, 0.19, 0.17, 0.14, 0.2, 0.14, 0.18]\n",
    "#plot results for each round\n",
    "plt.figure(figsize=(8, 8))\n",
    "ax = plt.axes()\n",
    "ax.plot(test_accuracy[0], label='CNN_base')\n",
    "ax.plot(test_accuracy[1], label='CNN_AL')\n",
    "ax.plot(test_accuracy[2], label='CNN_WS')\n",
    "ax.plot(test_accuracy[3], label='CNN_WS_AL')\n",
    "ax.legend()\n",
    "plt.title('Accuracy of 4 models overs 10 rounds')\n",
    "plt.xlabel('Round')\n",
    "plt.ylabel('Accuracy')\n",
    "plt.show()"
   ]
  },
  {
   "cell_type": "code",
   "execution_count": null,
   "metadata": {},
   "outputs": [],
   "source": []
  }
 ],
 "metadata": {
  "kernelspec": {
   "display_name": "Python 3",
   "language": "python",
   "name": "python3"
  },
  "language_info": {
   "codemirror_mode": {
    "name": "ipython",
    "version": 3
   },
   "file_extension": ".py",
   "mimetype": "text/x-python",
   "name": "python",
   "nbconvert_exporter": "python",
   "pygments_lexer": "ipython3",
   "version": "3.6.8"
  }
 },
 "nbformat": 4,
 "nbformat_minor": 4
}
