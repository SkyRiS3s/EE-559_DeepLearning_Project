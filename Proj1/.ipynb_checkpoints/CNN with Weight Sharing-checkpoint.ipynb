{
 "cells": [
  {
   "cell_type": "code",
   "execution_count": 57,
   "metadata": {},
   "outputs": [],
   "source": [
    "import torch\n",
    "from torch import nn\n",
    "from torch import optim\n",
    "from torch.nn import functional\n",
    "from models import *\n",
    "#import seaborn as sns\n",
    "import matplotlib.pyplot as plt\n",
    "import dlc_practical_prologue as prologue\n",
    "import warnings\n",
    "warnings.filterwarnings('ignore')"
   ]
  },
  {
   "cell_type": "code",
   "execution_count": 58,
   "metadata": {},
   "outputs": [
    {
     "data": {
      "image/png": "[encoded data removed]",
      "text/plain": [
       "<Figure size 432x288 with 6 Axes>"
      ]
     },
     "metadata": {},
     "output_type": "display_data"
    }
   ],
   "source": [
    "train_input, train_target, train_classes, test_input, test_target, test_classes = prologue.generate_pair_sets(1000)\n",
    "# Playing with the data\n",
    "fig = plt.figure()\n",
    "for i in range(6):\n",
    "  plt.subplot(2,3,i+1)\n",
    "  plt.imshow(test_input[i][0], cmap='gray', interpolation='none')\n",
    "  plt.title(\"Value: {}\".format(test_classes[i][0]))  \n",
    "  plt.tight_layout()\n",
    "  plt.xticks([])\n",
    "  plt.yticks([])"
   ]
  },
  {
   "cell_type": "code",
   "execution_count": 59,
   "metadata": {},
   "outputs": [],
   "source": [
    "def train(model, input_, target_, lr , epochs, mini_batch):\n",
    "    criterion = nn.CrossEntropyLoss() \n",
    "    optimizer = optim.Adam(model.parameters(), lr = lr)\n",
    "    \n",
    "    losses = []\n",
    "    for epoch in range(epochs):\n",
    "        for batch in range(0, input_.size(0), mini_batch):\n",
    "            train_in = input_.narrow(0, batch, mini_batch)\n",
    "            target_in = target_.narrow(0, batch, mini_batch)\n",
    "            \n",
    "            #print(target_in)\n",
    "            \n",
    "            out = model(train_in)\n",
    "\n",
    "            loss = criterion(out, target_in)\n",
    "            for parameter in model.parameters():\n",
    "                loss += 0.1 * parameter.pow(2).sum()\n",
    "            optimizer.zero_grad()\n",
    "            loss.backward()\n",
    "            optimizer.step()\n",
    "            losses.append(loss.data.item())\n",
    "            \n",
    "    return losses"
   ]
  },
  {
   "cell_type": "code",
   "execution_count": 60,
   "metadata": {},
   "outputs": [],
   "source": [
    "def get_errors(model, input_, target_, mini_batch):\n",
    "    n_errs = 0\n",
    "    for batch in range(0, input_.size(0), mini_batch):\n",
    "        out = model(input_.narrow(0, batch, mini_batch))\n",
    "        #print(batch)\n",
    "        #print(out.data)\n",
    "        #print(torch.max(functional.softmax(out.data, dim = 0), 1))\n",
    "\n",
    "        preds = torch.max(functional.softmax(out.data, dim = 0), 1)[1]\n",
    "        \n",
    "        for i in range(mini_batch):\n",
    "            if target_.data[batch+i] != preds[i]:\n",
    "                n_errs += 1\n",
    "    return n_errs\n",
    "        "
   ]
  },
  {
   "cell_type": "code",
   "execution_count": 61,
   "metadata": {},
   "outputs": [],
   "source": [
    "def model_run(Model_class, n_samples, n_rounds, mini_batch = 50):\n",
    "    train_errs = []\n",
    "    test_errs = []\n",
    "    losses_per_round = []\n",
    "    \n",
    "    for i in range(n_rounds):\n",
    "        train_input, train_target, train_classes, test_input, test_target, test_classes = prologue.generate_pair_sets(n_samples)\n",
    "        model = Model_class()\n",
    "        losses_round = train(model, train_input, train_target, lr = 0.0001, epochs = 25, mini_batch = mini_batch)\n",
    "        losses_per_round.append(losses_round)\n",
    "        \n",
    "        train_errs_round = get_errors(model, train_input, train_target, mini_batch)\n",
    "        train_errs.append(train_errs_round)\n",
    "        test_errs_round = get_errors(model, test_input, test_target, mini_batch)\n",
    "        test_errs.append(test_errs_round)\n",
    "\n",
    "        print('Round ' + str(i+1))\n",
    "        print('Train error \\t n_errs: ' \n",
    "             + str(train_errs_round) \n",
    "             + '\\t input_dim: '\n",
    "             + str(train_input.size(0))\n",
    "             + '\\t ratio: '\n",
    "             + str(round(train_errs_round/train_input.size(0), 4)))\n",
    "            \n",
    "        print('Test error \\t n_errs: ' \n",
    "             + str(test_errs_round) \n",
    "             + '\\t input_dim: '\n",
    "             + str(test_input.size(0))\n",
    "             + '\\t ratio: '\n",
    "             + str(round(test_errs_round/test_input.size(0), 4)))\n",
    "        \n",
    "        print('***************************************************************')\n",
    "        \n",
    "    return train_errs, test_errs , losses_per_round, model\n"
   ]
  },
  {
   "cell_type": "code",
   "execution_count": 62,
   "metadata": {},
   "outputs": [
    {
     "name": "stdout",
     "output_type": "stream",
     "text": [
      "CNN with weight Sharing \n",
      "***************************************************************\n",
      "Round 1\n",
      "Train error \t n_errs: 58\t input_dim: 1000\t ratio: 0.058\n",
      "Test error \t n_errs: 227\t input_dim: 1000\t ratio: 0.227\n",
      "***************************************************************\n",
      "Round 2\n",
      "Train error \t n_errs: 51\t input_dim: 1000\t ratio: 0.051\n",
      "Test error \t n_errs: 218\t input_dim: 1000\t ratio: 0.218\n",
      "***************************************************************\n",
      "Round 3\n",
      "Train error \t n_errs: 42\t input_dim: 1000\t ratio: 0.042\n",
      "Test error \t n_errs: 219\t input_dim: 1000\t ratio: 0.219\n",
      "***************************************************************\n",
      "Round 4\n",
      "Train error \t n_errs: 50\t input_dim: 1000\t ratio: 0.05\n",
      "Test error \t n_errs: 196\t input_dim: 1000\t ratio: 0.196\n",
      "***************************************************************\n"
     ]
    }
   ],
   "source": [
    "print('CNN with weight Sharing \\n***************************************************************')\n",
    "train_errs, test_errs, losses_per_round, model  = model_run(CNN_weight_sharing, \n",
    "                                                            n_samples = 1000, n_rounds = 4)"
   ]
  },
  {
   "cell_type": "code",
   "execution_count": 63,
   "metadata": {},
   "outputs": [],
   "source": [
    "# Add Graphs"
   ]
  }
 ],
 "metadata": {
  "kernelspec": {
   "display_name": "Python 3",
   "language": "python",
   "name": "python3"
  },
  "language_info": {
   "codemirror_mode": {
    "name": "ipython",
    "version": 3
   },
   "file_extension": ".py",
   "mimetype": "text/x-python",
   "name": "python",
   "nbconvert_exporter": "python",
   "pygments_lexer": "ipython3",
   "version": "3.8.8"
  }
 },
 "nbformat": 4,
 "nbformat_minor": 2
}
