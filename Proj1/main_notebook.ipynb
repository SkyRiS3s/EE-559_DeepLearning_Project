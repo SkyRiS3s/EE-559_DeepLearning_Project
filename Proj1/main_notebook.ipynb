{
 "cells": [
  {
   "cell_type": "code",
   "execution_count": 109,
   "metadata": {},
   "outputs": [],
   "source": [
    "#import torch modules\n",
    "import torch\n",
    "from torch import nn\n",
    "from torch.nn import functional as F\n",
    "from torch import optim\n",
    "\n",
    "#import for plotting results\n",
    "from matplotlib import pyplot as plt\n",
    "\n",
    "import dlc_practical_prologue as prologue\n",
    "\n",
    "from helpers import *\n",
    "\n",
    "import importlib\n",
    "import models\n",
    "importlib.reload(models)\n",
    "from models import *"
   ]
  },
  {
   "cell_type": "code",
   "execution_count": 2,
   "metadata": {},
   "outputs": [],
   "source": [
    "def train(model, input_, target_, target_classes, epochs, mini_batch, lr, norm_weight, aux_weight):\n",
    "    criterion = nn.CrossEntropyLoss() \n",
    "    optimizer = optim.Adam(model.parameters(), lr = lr)\n",
    "    \n",
    "    losses = []\n",
    "    for epoch in range(epochs):\n",
    "        for batch in range(0, input_.size(0), mini_batch):\n",
    "            train_in = input_.narrow(0, batch, mini_batch)\n",
    "            target_in = target_.narrow(0, batch, mini_batch)\n",
    "            target_in_classes = target_classes.narrow(0, batch, mini_batch)\n",
    "            \n",
    "            out, out_aux = model(train_in)\n",
    "            \n",
    "            loss = criterion(out, target_in)\n",
    "            for parameter in model.parameters():\n",
    "                loss += norm_weight * parameter.pow(2).sum()\n",
    "                \n",
    "            if out_aux:\n",
    "                loss += aux_weight*criterion(out_aux[0], target_in_classes[:,0])\n",
    "                loss += aux_weight*criterion(out_aux[1], target_in_classes[:,1])\n",
    "                \n",
    "            optimizer.zero_grad()\n",
    "            loss.backward()\n",
    "            optimizer.step()\n",
    "            losses.append(loss.data.item())\n",
    "            \n",
    "    return losses"
   ]
  },
  {
   "cell_type": "code",
   "execution_count": 3,
   "metadata": {},
   "outputs": [],
   "source": [
    "def get_test_error_rate(model, test_input, test_target):\n",
    "    preds,_ = model(test_input)\n",
    "    preds = functional.softmax(preds, dim = 0)\n",
    "\n",
    "    n_errs = 0\n",
    "    nb_samples = test_input.size(0)\n",
    "    for i in range(nb_samples):\n",
    "        if torch.max(preds[i], 0)[1] != test_target[i]:\n",
    "            n_errs += 1\n",
    "\n",
    "    return n_errs/nb_samples"
   ]
  },
  {
   "cell_type": "code",
   "execution_count": 91,
   "metadata": {},
   "outputs": [],
   "source": [
    "#cross-validation\n",
    "#generate datasets\n",
    "n_samples = 1000\n",
    "mini_batch = 100\n",
    "lr = 0.001\n",
    "n_CV = 5\n",
    "\n",
    "data_CV = []\n",
    "for i in range(n_CV):\n",
    "    train_data = {}\n",
    "    valid_data = {}\n",
    "    train_data[\"input\"], train_data[\"target\"], train_data[\"classes\"], valid_data[\"input\"], valid_data[\"target\"], valid_data[\"classes\"] = prologue.generate_pair_sets(n_samples)\n",
    "    train_data[\"input\"] = normalize(train_data[\"input\"])\n",
    "    valid_data[\"input\"] = normalize(valid_data[\"input\"])\n",
    "    data_CV.append((train_data, valid_data))"
   ]
  },
  {
   "cell_type": "code",
   "execution_count": 170,
   "metadata": {},
   "outputs": [
    {
     "name": "stdout",
     "output_type": "stream",
     "text": [
      "norm_weight: 0.01, aux_weight: 0\n",
      "tensor([0.2410, 0.2210, 0.2270, 0.2040, 0.2000])\n",
      "norm_weight: 0.02, aux_weight: 0\n",
      "tensor([0.2040, 0.1960, 0.2130, 0.1900, 0.2000])\n",
      "norm_weight: 0.05, aux_weight: 0\n",
      "tensor([0.2370, 0.2170, 0.2570, 0.2290, 0.2380])\n",
      "norm_weight: 0.1, aux_weight: 0\n",
      "tensor([0.2580, 0.2350, 0.2470, 0.2290, 0.2390])\n"
     ]
    }
   ],
   "source": [
    "#cross-validation\n",
    "#run grid search\n",
    "lr = 0.01\n",
    "model = CNN_base()\n",
    "\n",
    "norm_weights = [0.01, 0.02, 0.05, 0.1]\n",
    "#aux_weights = [0.5, 0.75, 1, 1.25, 1.5]\n",
    "aux_weights = [0]\n",
    "\n",
    "score_per_model = []\n",
    "for norm_weight in norm_weights:\n",
    "    for aux_weight in aux_weights:\n",
    "        print(\"norm_weight: {0}, aux_weight: {1}\".format(norm_weight, aux_weight))\n",
    "        score_per_round = []\n",
    "        for i in range(n_CV):\n",
    "            train_data = data_CV[i][0]\n",
    "            valid_data = data_CV[i][1]\n",
    "            train(model, train_data[\"input\"], train_data[\"target\"], train_data[\"classes\"], epochs = 25, mini_batch = mini_batch, lr = lr, norm_weight=norm_weight, aux_weight=aux_weight)\n",
    "            score_per_round.append(get_test_error_rate(model, valid_data[\"input\"], valid_data[\"target\"]))\n",
    "\n",
    "        score_tens = torch.Tensor(score_per_round)\n",
    "        mean = torch.mean(score_tens).item()\n",
    "        std = torch.std(score_tens).item()\n",
    "        print(score_tens)\n",
    "        score_per_model.append({\"norm_weight\": norm_weight, \"aux_weight\": aux_weight, \"mean\": mean, \"std\": std})\n",
    "            "
   ]
  },
  {
   "cell_type": "code",
   "execution_count": 163,
   "metadata": {},
   "outputs": [
    {
     "data": {
      "text/plain": [
       "[{'norm_weight': 0.01,\n",
       "  'aux_weight': 0,\n",
       "  'mean': 0.19339999556541443,\n",
       "  'std': 0.004615193698555231},\n",
       " {'norm_weight': 0.02,\n",
       "  'aux_weight': 0,\n",
       "  'mean': 0.19380000233650208,\n",
       "  'std': 0.011009087786078453},\n",
       " {'norm_weight': 0.05,\n",
       "  'aux_weight': 0,\n",
       "  'mean': 0.19660000503063202,\n",
       "  'std': 0.01871630549430847},\n",
       " {'norm_weight': 0.1,\n",
       "  'aux_weight': 0,\n",
       "  'mean': 0.19760000705718994,\n",
       "  'std': 0.014363150112330914}]"
      ]
     },
     "execution_count": 163,
     "metadata": {},
     "output_type": "execute_result"
    }
   ],
   "source": [
    "score_per_model"
   ]
  },
  {
   "cell_type": "code",
   "execution_count": 171,
   "metadata": {},
   "outputs": [],
   "source": [
    "f = open(\"grid_search_CNN_base2.csv\", \"w\")\n",
    "f.write(\"norm_weight,mean,std\\n\")\n",
    "for row in score_per_model:\n",
    "    f.write(\"{},{},{}\\n\".format(row[\"norm_weight\"], row[\"mean\"], row[\"std\"]))\n",
    "f.close()"
   ]
  },
  {
   "cell_type": "code",
   "execution_count": 164,
   "metadata": {},
   "outputs": [],
   "source": [
    "f = open(\"grid_search_CNN_WS.csv\", \"w\")\n",
    "f.write(\"norm_weight,mean,std\\n\")\n",
    "for row in score_per_model:\n",
    "    f.write(\"{},{},{}\\n\".format(row[\"norm_weight\"], row[\"mean\"], row[\"std\"]))\n",
    "f.close()"
   ]
  },
  {
   "cell_type": "code",
   "execution_count": 169,
   "metadata": {},
   "outputs": [],
   "source": [
    "f = open(\"grid_search_CNN_AL2.csv\", \"w\")\n",
    "f.write(\"norm_weight,aux_weight,mean,std\\n\")\n",
    "for row in score_per_model:\n",
    "    f.write(\"{},{},{}\\n\".format(row[\"norm_weight\"], row[\"aux_weight\"], row[\"mean\"], row[\"std\"]))\n",
    "f.close()"
   ]
  },
  {
   "cell_type": "code",
   "execution_count": 166,
   "metadata": {},
   "outputs": [],
   "source": [
    "f = open(\"grid_search_CNN_WS_AL2.csv\", \"w\")\n",
    "f.write(\"norm_weight,aux_weight,mean,std\\n\")\n",
    "for row in score_per_model:\n",
    "    f.write(\"{},{},{}\\n\".format(row[\"norm_weight\"], row[\"aux_weight\"], row[\"mean\"], row[\"std\"]))\n",
    "f.close()"
   ]
  },
  {
   "cell_type": "code",
   "execution_count": 6,
   "metadata": {},
   "outputs": [],
   "source": [
    "n_samples = 1000\n",
    "train_input, train_target, train_classes, test_input, test_target, test_classes = prologue.generate_pair_sets(n_samples)\n",
    "train_input = normalize(train_input)\n",
    "test_input = normalize(test_input)\n",
    "\n",
    "full_train_size = train_input.size(0)\n",
    "idx = torch.randperm(full_train_size)\n",
    "k_folds = 5\n",
    "fold_size = full_train_size//k_folds\n",
    "for i in range(k_folds):\n",
    "    valid_set = train_input[idx[i*fold_size:(i+1)*fold_size]] if i < k_folds-1 else train_input[idx[i*fold_size:]]"
   ]
  },
  {
   "cell_type": "code",
   "execution_count": 172,
   "metadata": {},
   "outputs": [
    {
     "name": "stdout",
     "output_type": "stream",
     "text": [
      "Round 1\n",
      "Test accuracy:\n",
      "\n",
      "CNN_base: 0.8140000104904175\n",
      "CNN_AL: 0.859000027179718\n",
      "CNN_WS: 0.8159999847412109\n",
      "CNN_WS_AL: 0.8939999938011169\n",
      "***************************************************************\n",
      "Round 2\n",
      "Test accuracy:\n",
      "\n",
      "CNN_base: 0.7580000162124634\n",
      "CNN_AL: 0.8510000109672546\n",
      "CNN_WS: 0.777999997138977\n",
      "CNN_WS_AL: 0.9110000133514404\n",
      "***************************************************************\n",
      "Round 3\n",
      "Test accuracy:\n",
      "\n",
      "CNN_base: 0.8059999942779541\n",
      "CNN_AL: 0.8339999914169312\n",
      "CNN_WS: 0.8090000152587891\n",
      "CNN_WS_AL: 0.8989999890327454\n",
      "***************************************************************\n",
      "Round 4\n",
      "Test accuracy:\n",
      "\n",
      "CNN_base: 0.8130000233650208\n",
      "CNN_AL: 0.8510000109672546\n",
      "CNN_WS: 0.8270000219345093\n",
      "CNN_WS_AL: 0.8899999856948853\n",
      "***************************************************************\n",
      "Round 5\n",
      "Test accuracy:\n",
      "\n",
      "CNN_base: 0.7599999904632568\n",
      "CNN_AL: 0.8299999833106995\n",
      "CNN_WS: 0.8209999799728394\n",
      "CNN_WS_AL: 0.8920000195503235\n",
      "***************************************************************\n",
      "Round 6\n",
      "Test accuracy:\n",
      "\n",
      "CNN_base: 0.7829999923706055\n",
      "CNN_AL: 0.8640000224113464\n",
      "CNN_WS: 0.8009999990463257\n",
      "CNN_WS_AL: 0.9120000004768372\n",
      "***************************************************************\n",
      "Round 7\n",
      "Test accuracy:\n",
      "\n",
      "CNN_base: 0.7799999713897705\n",
      "CNN_AL: 0.8659999966621399\n",
      "CNN_WS: 0.8080000281333923\n",
      "CNN_WS_AL: 0.902999997138977\n",
      "***************************************************************\n",
      "Round 8\n",
      "Test accuracy:\n",
      "\n",
      "CNN_base: 0.7870000004768372\n",
      "CNN_AL: 0.8529999852180481\n",
      "CNN_WS: 0.8149999976158142\n",
      "CNN_WS_AL: 0.902999997138977\n",
      "***************************************************************\n",
      "Round 9\n",
      "Test accuracy:\n",
      "\n",
      "CNN_base: 0.8059999942779541\n",
      "CNN_AL: 0.8399999737739563\n",
      "CNN_WS: 0.7960000038146973\n",
      "CNN_WS_AL: 0.8949999809265137\n",
      "***************************************************************\n",
      "Round 10\n",
      "Test accuracy:\n",
      "\n",
      "CNN_base: 0.7730000019073486\n",
      "CNN_AL: 0.8539999723434448\n",
      "CNN_WS: 0.8040000200271606\n",
      "CNN_WS_AL: 0.9229999780654907\n",
      "***************************************************************\n",
      "Round 11\n",
      "Test accuracy:\n",
      "\n",
      "CNN_base: 0.7739999890327454\n",
      "CNN_AL: 0.8309999704360962\n",
      "CNN_WS: 0.7900000214576721\n",
      "CNN_WS_AL: 0.9200000166893005\n",
      "***************************************************************\n",
      "Round 12\n",
      "Test accuracy:\n",
      "\n",
      "CNN_base: 0.7850000262260437\n",
      "CNN_AL: 0.8500000238418579\n",
      "CNN_WS: 0.8119999766349792\n",
      "CNN_WS_AL: 0.875\n",
      "***************************************************************\n",
      "Round 13\n",
      "Test accuracy:\n",
      "\n",
      "CNN_base: 0.7950000166893005\n",
      "CNN_AL: 0.8640000224113464\n",
      "CNN_WS: 0.8119999766349792\n",
      "CNN_WS_AL: 0.9079999923706055\n",
      "***************************************************************\n",
      "Round 14\n",
      "Test accuracy:\n",
      "\n",
      "CNN_base: 0.7900000214576721\n",
      "CNN_AL: 0.8420000076293945\n",
      "CNN_WS: 0.8230000138282776\n",
      "CNN_WS_AL: 0.9010000228881836\n",
      "***************************************************************\n",
      "Round 15\n",
      "Test accuracy:\n",
      "\n",
      "CNN_base: 0.7850000262260437\n",
      "CNN_AL: 0.8450000286102295\n",
      "CNN_WS: 0.8109999895095825\n",
      "CNN_WS_AL: 0.9100000262260437\n",
      "***************************************************************\n"
     ]
    }
   ],
   "source": [
    "n_samples=1000\n",
    "n_rounds=15\n",
    "mini_batch=100\n",
    "lr = 0.01\n",
    "\n",
    "#choose models\n",
    "model_classes = [CNN_base, CNN_AL, CNN_WS, CNN_WS_AL]\n",
    "\n",
    "#hyperparameters\n",
    "norm_weights = [0.02, 0.02, 0.01, 0.01]\n",
    "aux_weights = [0, 1.25, 0, 1.25]\n",
    "\n",
    "test_accuracy = torch.empty((4, n_rounds))\n",
    "\n",
    "for i in range(n_rounds):\n",
    "    train_input, train_target, train_classes, test_input, test_target, test_classes = prologue.generate_pair_sets(n_samples)\n",
    "    train_input = normalize(train_input)\n",
    "    test_input = normalize(test_input)\n",
    "\n",
    "    for j, model_class in enumerate(model_classes):\n",
    "        model = model_class()\n",
    "        train(model, train_input, train_target, train_classes, epochs = 25, mini_batch = mini_batch, lr=lr, norm_weight=norm_weights[j], aux_weight=aux_weights[j])\n",
    "\n",
    "        acc_round = 1-get_test_error_rate(model, test_input, test_target)\n",
    "        test_accuracy[j][i] = acc_round\n",
    "\n",
    "    print('Round ' + str(i+1))\n",
    "    print('Test accuracy:\\n')\n",
    "    print('CNN_base: {}'.format(test_accuracy[0][i]))\n",
    "    print('CNN_AL: {}'.format(test_accuracy[1][i]))\n",
    "    print('CNN_WS: {}'.format(test_accuracy[2][i]))\n",
    "    print('CNN_WS_AL: {}'.format(test_accuracy[3][i]))\n",
    "\n",
    "    print('***************************************************************')"
   ]
  },
  {
   "cell_type": "code",
   "execution_count": 173,
   "metadata": {},
   "outputs": [],
   "source": [
    "#compute means and standard deviations accross rounds\n",
    "acc_means = []\n",
    "acc_stds = []\n",
    "for i in range(4):\n",
    "    acc_means.append(test_accuracy[i].mean().item())\n",
    "    acc_stds.append(test_accuracy[i].std().item())"
   ]
  },
  {
   "cell_type": "code",
   "execution_count": 174,
   "metadata": {},
   "outputs": [
    {
     "name": "stdout",
     "output_type": "stream",
     "text": [
      "CNN without weight sharing and without auxiliary loss\n"
     ]
    },
    {
     "data": {
      "text/plain": [
       "'mean of test scores: 0.7872666716575623, std of test scores: 0.017334802076220512'"
      ]
     },
     "execution_count": 174,
     "metadata": {},
     "output_type": "execute_result"
    }
   ],
   "source": [
    "#CNN_base\n",
    "print('CNN without weight sharing and without auxiliary loss')\n",
    "\"mean of test scores: {}, std of test scores: {}\".format(acc_means[0], acc_stds[0])"
   ]
  },
  {
   "cell_type": "code",
   "execution_count": 175,
   "metadata": {},
   "outputs": [
    {
     "name": "stdout",
     "output_type": "stream",
     "text": [
      "CNN without weight sharing and with auxiliary loss\n"
     ]
    },
    {
     "data": {
      "text/plain": [
       "'mean of test scores: 0.8489334583282471, std of test scores: 0.01178660523146391'"
      ]
     },
     "execution_count": 175,
     "metadata": {},
     "output_type": "execute_result"
    }
   ],
   "source": [
    "#CNN_AL\n",
    "print('CNN without weight sharing and with auxiliary loss')\n",
    "\"mean of test scores: {}, std of test scores: {}\".format(acc_means[1], acc_stds[1])"
   ]
  },
  {
   "cell_type": "code",
   "execution_count": 176,
   "metadata": {},
   "outputs": [
    {
     "name": "stdout",
     "output_type": "stream",
     "text": [
      "CNN with weight sharing and without auxiliary loss\n"
     ]
    },
    {
     "data": {
      "text/plain": [
       "'mean of test scores: 0.8082000613212585, std of test scores: 0.012935000471770763'"
      ]
     },
     "execution_count": 176,
     "metadata": {},
     "output_type": "execute_result"
    }
   ],
   "source": [
    "#CNN_WS\n",
    "print('CNN with weight sharing and without auxiliary loss')\n",
    "\"mean of test scores: {}, std of test scores: {}\".format(acc_means[2], acc_stds[2])"
   ]
  },
  {
   "cell_type": "code",
   "execution_count": 177,
   "metadata": {},
   "outputs": [
    {
     "name": "stdout",
     "output_type": "stream",
     "text": [
      "CNN with weight sharing and with auxiliary loss\n"
     ]
    },
    {
     "data": {
      "text/plain": [
       "'mean of test scores: 0.902400016784668, std of test scores: 0.012368163093924522'"
      ]
     },
     "execution_count": 177,
     "metadata": {},
     "output_type": "execute_result"
    }
   ],
   "source": [
    "#CNN_WS_AL\n",
    "print('CNN with weight sharing and with auxiliary loss')\n",
    "\"mean of test scores: {}, std of test scores: {}\".format(acc_means[3], acc_stds[3])"
   ]
  },
  {
   "cell_type": "code",
   "execution_count": 178,
   "metadata": {},
   "outputs": [
    {
     "data": {
      "image/png": "[encoded data removed]",
      "text/plain": [
       "<Figure size 576x576 with 1 Axes>"
      ]
     },
     "metadata": {
      "needs_background": "light"
     },
     "output_type": "display_data"
    }
   ],
   "source": [
    "#plot results for each round\n",
    "plt.figure(figsize=(8, 8))\n",
    "ax = plt.axes()\n",
    "ax.plot(test_accuracy[0], label='CNN_base')\n",
    "ax.plot(test_accuracy[1], label='CNN_AL')\n",
    "ax.plot(test_accuracy[2], label='CNN_WS')\n",
    "ax.plot(test_accuracy[3], label='CNN_WS_AL')\n",
    "ax.legend()\n",
    "plt.title('Accuracy of 4 models over {} rounds'.format(n_rounds))\n",
    "plt.xlabel('Round')\n",
    "plt.ylabel('Accuracy')\n",
    "plt.show()"
   ]
  },
  {
   "cell_type": "code",
   "execution_count": 179,
   "metadata": {},
   "outputs": [
    {
     "data": {
      "image/png": "[encoded data removed]",
      "text/plain": [
       "<Figure size 576x576 with 1 Axes>"
      ]
     },
     "metadata": {
      "needs_background": "light"
     },
     "output_type": "display_data"
    }
   ],
   "source": [
    "#plot mean and std of accuracy\n",
    "plt.figure(figsize=(8, 8))\n",
    "plt.bar([\"CNN_base\", \"CNN_AL\", \"CNN_WS\", \"CNN_WS_AL\"], acc_means, yerr=acc_stds)\n",
    "plt.ylim([0.6, 1])\n",
    "plt.title('Mean and Standard Deviation of Accuracy')\n",
    "plt.xlabel('Model')\n",
    "plt.ylabel('Accuracy')\n",
    "plt.show()"
   ]
  }
 ],
 "metadata": {
  "kernelspec": {
   "display_name": "Python 3",
   "language": "python",
   "name": "python3"
  },
  "language_info": {
   "codemirror_mode": {
    "name": "ipython",
    "version": 3
   },
   "file_extension": ".py",
   "mimetype": "text/x-python",
   "name": "python",
   "nbconvert_exporter": "python",
   "pygments_lexer": "ipython3",
   "version": "3.6.8"
  }
 },
 "nbformat": 4,
 "nbformat_minor": 4
}
